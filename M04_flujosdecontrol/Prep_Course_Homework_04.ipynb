{
 "cells": [
  {
   "attachments": {},
   "cell_type": "markdown",
   "metadata": {},
   "source": [
    "## Flujos de Control"
   ]
  },
  {
   "attachments": {},
   "cell_type": "markdown",
   "metadata": {},
   "source": [
    "1) Crear una variable que contenga un elemento del conjunto de números enteros y luego imprimir por pantalla si es mayor o menor a cero"
   ]
  },
  {
   "cell_type": "code",
   "execution_count": 4,
   "metadata": {},
   "outputs": [
    {
     "name": "stdout",
     "output_type": "stream",
     "text": [
      "a es menor a 0\n"
     ]
    }
   ],
   "source": [
    "a=-55\n",
    "if a>0:\n",
    "    print(\"a es mayor a 0\")\n",
    "else:\n",
    "    print(\"a es menor a 0\")"
   ]
  },
  {
   "attachments": {},
   "cell_type": "markdown",
   "metadata": {},
   "source": [
    "2) Crear dos variables y un condicional que informe si son del mismo tipo de dato"
   ]
  },
  {
   "cell_type": "code",
   "execution_count": 5,
   "metadata": {},
   "outputs": [
    {
     "name": "stdout",
     "output_type": "stream",
     "text": [
      "las variables son de diferente tipo\n"
     ]
    }
   ],
   "source": [
    "nombre=\"edwin\"\n",
    "edad=41\n",
    "if type(nombre)==type(edad):\n",
    "    print(\"Las variables son del mismo tipo\")\n",
    "else:\n",
    "    print(\"las variables son de diferente tipo\")"
   ]
  },
  {
   "attachments": {},
   "cell_type": "markdown",
   "metadata": {},
   "source": [
    "3) Para los valores enteros del 1 al 20, imprimir por pantalla si es par o impar"
   ]
  },
  {
   "cell_type": "code",
   "execution_count": 6,
   "metadata": {},
   "outputs": [
    {
     "name": "stdout",
     "output_type": "stream",
     "text": [
      "El numero  1 es impar\n",
      "El numero  2 es par\n",
      "El numero  3 es impar\n",
      "El numero  4 es par\n",
      "El numero  5 es impar\n",
      "El numero  6 es par\n",
      "El numero  7 es impar\n",
      "El numero  8 es par\n",
      "El numero  9 es impar\n",
      "El numero  10 es par\n",
      "El numero  11 es impar\n",
      "El numero  12 es par\n",
      "El numero  13 es impar\n",
      "El numero  14 es par\n",
      "El numero  15 es impar\n",
      "El numero  16 es par\n",
      "El numero  17 es impar\n",
      "El numero  18 es par\n",
      "El numero  19 es impar\n",
      "El numero  20 es par\n"
     ]
    }
   ],
   "source": [
    "for numeros in range(1,21):\n",
    "    if numeros%2==0:\n",
    "        print(\"El numero \",str(numeros),\"es par\")\n",
    "    else:\n",
    "        print(\"El numero \",str(numeros),\"es impar\")\n"
   ]
  },
  {
   "attachments": {},
   "cell_type": "markdown",
   "metadata": {},
   "source": [
    "4) En un ciclo for mostrar para los valores entre 0 y 5 el resultado de elevarlo a la potencia igual a 3"
   ]
  },
  {
   "cell_type": "code",
   "execution_count": 12,
   "metadata": {},
   "outputs": [
    {
     "name": "stdout",
     "output_type": "stream",
     "text": [
      "El numero  1  Elevado a la potencia igual a 3 es  1\n",
      "El numero  2  Elevado a la potencia igual a 3 es  8\n",
      "El numero  3  Elevado a la potencia igual a 3 es  27\n",
      "El numero  4  Elevado a la potencia igual a 3 es  64\n",
      "El numero  5  Elevado a la potencia igual a 3 es  125\n"
     ]
    }
   ],
   "source": [
    "for numeros in range(1,6):\n",
    "    print(\"El numero \",str(numeros),\" Elevado a la potencia igual a 3 es \",numeros**3)\n"
   ]
  },
  {
   "attachments": {},
   "cell_type": "markdown",
   "metadata": {},
   "source": [
    "5) Crear una variable que contenga un número entero y realizar un ciclo for la misma cantidad de ciclos"
   ]
  },
  {
   "cell_type": "code",
   "execution_count": 13,
   "metadata": {},
   "outputs": [
    {
     "name": "stdout",
     "output_type": "stream",
     "text": [
      "19\n"
     ]
    }
   ],
   "source": [
    "n=20\n",
    "for i in range(0,n):\n",
    "    pass\n",
    "print(i)"
   ]
  },
  {
   "attachments": {},
   "cell_type": "markdown",
   "metadata": {},
   "source": [
    "6) Utilizar un ciclo while para realizar el factorial de un número guardado en una variable, sólo si la variable contiene un número entero mayor a 0"
   ]
  },
  {
   "cell_type": "code",
   "execution_count": 14,
   "metadata": {},
   "outputs": [
    {
     "name": "stdout",
     "output_type": "stream",
     "text": [
      "El factorial de 5 es 120.\n"
     ]
    }
   ],
   "source": [
    "# Definimos una variable con el número del cual queremos calcular el factorial\n",
    "numero = 5\n",
    "\n",
    "# Verificamos si la variable contiene un número entero positivo\n",
    "if isinstance(numero, int) and numero > 0:\n",
    "    factorial = 1\n",
    "    i = 1\n",
    "    while i <= numero:\n",
    "        factorial *= i\n",
    "        i += 1\n",
    "    print(f\"El factorial de {numero} es {factorial}.\")\n",
    "else:\n",
    "    print(\"La variable no contiene un número entero mayor a 0.\")"
   ]
  },
  {
   "attachments": {},
   "cell_type": "markdown",
   "metadata": {},
   "source": [
    "7) Crear un ciclo for dentro de un ciclo while"
   ]
  },
  {
   "cell_type": "code",
   "execution_count": 16,
   "metadata": {},
   "outputs": [
    {
     "name": "stdout",
     "output_type": "stream",
     "text": [
      "Iteracion del ciclo while 1\n",
      "pera\n",
      "manzana\n",
      "naranja\n",
      "Iteracion del ciclo while 2\n",
      "pera\n",
      "manzana\n",
      "naranja\n",
      "Iteracion del ciclo while 3\n",
      "pera\n",
      "manzana\n",
      "naranja\n"
     ]
    }
   ],
   "source": [
    "contador=0\n",
    "while contador<3:\n",
    "    print(\"Iteracion del ciclo while\",contador+1)\n",
    "    frutas =[\"pera\",\"manzana\",\"naranja\"]\n",
    "    for fruta in frutas:\n",
    "        print(fruta)\n",
    "    contador+=1"
   ]
  },
  {
   "attachments": {},
   "cell_type": "markdown",
   "metadata": {},
   "source": [
    "8) Crear un ciclo while dentro de un ciclo for"
   ]
  },
  {
   "cell_type": "code",
   "execution_count": 20,
   "metadata": {},
   "outputs": [
    {
     "name": "stdout",
     "output_type": "stream",
     "text": [
      "Iteracion del ciclo for con numero:  1\n",
      "Ciclo while:  1\n",
      "Iteracion del ciclo for con numero:  2\n",
      "Ciclo while:  1\n",
      "Ciclo while:  2\n",
      "Iteracion del ciclo for con numero:  3\n",
      "Ciclo while:  1\n",
      "Ciclo while:  2\n",
      "Ciclo while:  3\n",
      "Iteracion del ciclo for con numero:  4\n",
      "Ciclo while:  1\n",
      "Ciclo while:  2\n",
      "Ciclo while:  3\n",
      "Ciclo while:  4\n"
     ]
    }
   ],
   "source": [
    "numeros=[1,2,3,4]\n",
    "for num in numeros:\n",
    "    print(\"Iteracion del ciclo for con numero: \",num)\n",
    "    contador=0\n",
    "    while contador<num:\n",
    "        print(\"Ciclo while: \",contador+1)\n",
    "        contador+=1"
   ]
  },
  {
   "attachments": {},
   "cell_type": "markdown",
   "metadata": {},
   "source": [
    "9) Imprimir los números primos existentes entre 0 y 30"
   ]
  },
  {
   "cell_type": "code",
   "execution_count": 25,
   "metadata": {},
   "outputs": [
    {
     "name": "stdout",
     "output_type": "stream",
     "text": [
      "0\n",
      "1\n",
      "2\n",
      "3\n",
      "5\n",
      "7\n",
      "11\n",
      "13\n",
      "17\n",
      "19\n",
      "23\n",
      "29\n"
     ]
    }
   ],
   "source": [
    "max=30\n",
    "n=0\n",
    "primo=True\n",
    "while (n<max):\n",
    "\n",
    "    for i in range(2,n):\n",
    "        if (n % i==0):\n",
    "            primo= False\n",
    "    if (primo):\n",
    "        print(n)\n",
    "    else:\n",
    "        primo=True\n",
    "    n+=1\n",
    "        "
   ]
  },
  {
   "attachments": {},
   "cell_type": "markdown",
   "metadata": {},
   "source": [
    "10) ¿Se puede mejorar el proceso del punto 9? Utilizar las sentencias break y/ó continue para tal fin"
   ]
  },
  {
   "cell_type": "code",
   "execution_count": 26,
   "metadata": {},
   "outputs": [
    {
     "name": "stdout",
     "output_type": "stream",
     "text": [
      "0\n",
      "1\n",
      "2\n",
      "3\n",
      "5\n",
      "7\n",
      "11\n",
      "13\n",
      "17\n",
      "19\n",
      "23\n",
      "29\n"
     ]
    }
   ],
   "source": [
    "max=30\n",
    "n=0\n",
    "primo=True\n",
    "while (n<max):\n",
    "\n",
    "    for i in range(2,n):\n",
    "        if (n % i==0):\n",
    "            primo= False\n",
    "            break\n",
    "    if (primo):\n",
    "        print(n)\n",
    "    else:\n",
    "        primo=True\n",
    "    n+=1\n",
    "        "
   ]
  },
  {
   "attachments": {},
   "cell_type": "markdown",
   "metadata": {},
   "source": [
    "11) En los puntos 9 y 10, se diseño un código que encuentra números primos y además se lo optimizó. ¿Es posible saber en qué medida se optimizó?"
   ]
  },
  {
   "cell_type": "code",
   "execution_count": 30,
   "metadata": {},
   "outputs": [
    {
     "name": "stdout",
     "output_type": "stream",
     "text": [
      "0\n",
      "1\n",
      "2\n",
      "3\n",
      "5\n",
      "7\n",
      "11\n",
      "13\n",
      "17\n",
      "19\n",
      "23\n",
      "29\n",
      "18\n"
     ]
    }
   ],
   "source": [
    "nobreak=0\n",
    "max=30\n",
    "n=0\n",
    "primo=True\n",
    "while (n<max):\n",
    "\n",
    "    for i in range(2,n):\n",
    "        if (n % i==0):\n",
    "            nobreak+=1\n",
    "            primo= False\n",
    "            break\n",
    "    if (primo):\n",
    "        print(n)\n",
    "    else:\n",
    "        primo=True\n",
    "    n+=1\n",
    "print(nobreak)"
   ]
  },
  {
   "attachments": {},
   "cell_type": "markdown",
   "metadata": {},
   "source": [
    "12) Aplicando continue, armar un ciclo while que solo imprima los valores divisibles por 12, dentro del rango de números de 100 a 300"
   ]
  },
  {
   "cell_type": "code",
   "execution_count": 35,
   "metadata": {},
   "outputs": [
    {
     "name": "stdout",
     "output_type": "stream",
     "text": [
      "13  es divisible por 12\n",
      "26  es divisible por 12\n",
      "39  es divisible por 12\n",
      "52  es divisible por 12\n",
      "65  es divisible por 12\n",
      "78  es divisible por 12\n",
      "91  es divisible por 12\n",
      "104  es divisible por 12\n",
      "117  es divisible por 12\n",
      "130  es divisible por 12\n",
      "143  es divisible por 12\n",
      "156  es divisible por 12\n",
      "169  es divisible por 12\n",
      "182  es divisible por 12\n",
      "195  es divisible por 12\n",
      "208  es divisible por 12\n",
      "221  es divisible por 12\n",
      "234  es divisible por 12\n",
      "247  es divisible por 12\n",
      "260  es divisible por 12\n",
      "273  es divisible por 12\n",
      "286  es divisible por 12\n",
      "299  es divisible por 12\n"
     ]
    }
   ],
   "source": [
    "n = 1\n",
    "while(n <= 300):\n",
    "    n += 1\n",
    "    if (n % 13 != 0):\n",
    "        continue\n",
    "    print(n, ' es divisible por 12')"
   ]
  },
  {
   "attachments": {},
   "cell_type": "markdown",
   "metadata": {},
   "source": [
    "13) Utilizar la función **input()** que permite hacer ingresos por teclado, para encontrar números primos y dar la opción al usario de buscar el siguiente"
   ]
  },
  {
   "cell_type": "code",
   "execution_count": 37,
   "metadata": {},
   "outputs": [
    {
     "name": "stdout",
     "output_type": "stream",
     "text": [
      "1\n",
      "¿Desea encontrar el siguiente número primo?\n"
     ]
    }
   ],
   "source": [
    "n = 1\n",
    "sigue = 1\n",
    "primo = True\n",
    "while (sigue == 1):\n",
    "    for div in range(2, n):\n",
    "        if (n % div == 0):\n",
    "            primo = False\n",
    "            break\n",
    "    if (primo):\n",
    "        print(n)\n",
    "        print('¿Desea encontrar el siguiente número primo?')\n",
    "        if (input() != '1'):\n",
    "            print('Se finaliza el proceso')\n",
    "            break\n",
    "    else:\n",
    "        primo = True\n",
    "    n += 1"
   ]
  },
  {
   "attachments": {},
   "cell_type": "markdown",
   "metadata": {},
   "source": [
    "14) Crear un ciclo while que encuentre dentro del rango de 100 a 300 el primer número divisible por 3 y además múltiplo de 6"
   ]
  },
  {
   "cell_type": "code",
   "execution_count": null,
   "metadata": {},
   "outputs": [],
   "source": []
  }
 ],
 "metadata": {
  "interpreter": {
   "hash": "c85384e4cb51c8b72350f3a8712cc8351fdc3955e32a27f9b60c6242ab125f01"
  },
  "kernelspec": {
   "display_name": "Python 3 (ipykernel)",
   "language": "python",
   "name": "python3"
  },
  "language_info": {
   "codemirror_mode": {
    "name": "ipython",
    "version": 3
   },
   "file_extension": ".py",
   "mimetype": "text/x-python",
   "name": "python",
   "nbconvert_exporter": "python",
   "pygments_lexer": "ipython3",
   "version": "3.11.4"
  }
 },
 "nbformat": 4,
 "nbformat_minor": 4
}
